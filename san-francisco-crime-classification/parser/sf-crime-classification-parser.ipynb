{
 "cells": [
  {
   "cell_type": "code",
   "execution_count": 1,
   "metadata": {
    "collapsed": true
   },
   "outputs": [],
   "source": [
    "\"\"\"\n",
    "A class for parsing the input data from the input \n",
    "data file to the parsed data file (files specified in the file_handler)\n",
    "\"\"\"\n",
    "\n",
    "class InputDataParser(object):\n",
    "\n",
    "    def __init__(self, file_handler):\n",
    "        self.file_handler = file_handler\n",
    "        self.date_parser = DateParser()\n",
    "        self.day_of_week_parser = DayOfWeekParser()\n",
    "        self.pd_district_parser = PdDistrictParser()\n",
    "        self.address_type_parser = AddressTypeParser()\n",
    "        self.location_parser = LocationParser()\n",
    "        self.category_parser = CategoryParser()\n",
    "    \n",
    "    def parse_input_data(self):\n",
    "        input_data = self.file_handler.get_input_data()\n",
    "        parsed_data_filename = self.file_handler.get_parsed_data_filename()\n",
    "        \n",
    "        #Erases previous contents of the parsed data file\n",
    "        open(parsed_data_filename, 'w').close() \n",
    "        \n",
    "        with open(parsed_data_filename, \"wb\") as parsed_data_file:\n",
    "            writer = csv.writer(parsed_data_file)\n",
    "            row_idx = 0\n",
    "            for row in input_data:\n",
    "                if (row_idx > 0):\n",
    "                    parsed_row = self.__parse(row)\n",
    "                    writer.writerow(parsed_row)\n",
    "                else:\n",
    "                    row_idx += 1\n",
    "                \n",
    "    def parse_test_data(self):\n",
    "        test_data = self.file_handler.get_test_data()\n",
    "        parsed_test_data_filename = self.file_handler.get_parsed_test_data_filename()\n",
    "        \n",
    "        #Erases previous contents of the parsed data file\n",
    "        open(parsed_test_data_filename, 'w').close() \n",
    "        \n",
    "        with open(parsed_test_data_filename, \"wb\") as parsed_test_data_file:\n",
    "            writer = csv.writer(parsed_test_data_file)\n",
    "            row_idx = 0\n",
    "            for row in test_data:\n",
    "                if (row_idx > 0):\n",
    "                    parsed_row = self.__parse_test_row(row)\n",
    "                    writer.writerow(parsed_row)\n",
    "                else:\n",
    "                    row_idx += 1\n",
    "    \n",
    "    \n",
    "    def __parse(self, row):\n",
    "        parsed_row = []\n",
    "        \n",
    "        date = row[0]\n",
    "        day_of_week = row[3]\n",
    "        pd_district = row[4]\n",
    "        address = row[6]\n",
    "        X = row[7]\n",
    "        Y = row[8]\n",
    "        category = row[1]\n",
    "        \n",
    "        #parsed_row.append(self.date_parser.get_normalized_date(date))\n",
    "        #parsed_row.append(self.date_parser.get_normalized_hour(date))\n",
    "        parsed_row.append(self.date_parser.get_awake(date))\n",
    "        parsed_row += self.date_parser.get_year_vector(date)\n",
    "        parsed_row += self.date_parser.get_month_vector(date)\n",
    "        parsed_row += self.date_parser.get_day_vector(date)\n",
    "        parsed_row += self.date_parser.get_seasons_vector(date)\n",
    "        parsed_row += self.day_of_week_parser.get_binary_week_vector(day_of_week)\n",
    "        parsed_row += self.pd_district_parser.get_binary_pd_districts_vector(pd_district)\n",
    "        #parsed_row += self.address_type_parser.get_binary_address_types_vector(address)\n",
    "        parsed_row += self.address_type_parser.get_distinct_binary_address_types_vector(address)\n",
    "        parsed_row.append(self.address_type_parser.get_intersection(address))\n",
    "        #parsed_row.append(self.location_parser.get_normalized_X(X))\n",
    "        #parsed_row.append(self.location_parser.get_normalized_Y(Y))\n",
    "        parsed_row.append(self.category_parser.get_category_value(category))\n",
    "        \n",
    "        return parsed_row\n",
    "    \n",
    "    \n",
    "    \n",
    "    def __parse_test_row(self, row):\n",
    "        parsed_row = []\n",
    "        \n",
    "        date = row[1]\n",
    "        day_of_week = row[2]\n",
    "        pd_district = row[3]\n",
    "        address = row[4]\n",
    "        X = row[5]\n",
    "        Y = row[6]\n",
    "        \n",
    "        #parsed_row.append(self.date_parser.get_normalized_date(date))\n",
    "        #parsed_row.append(self.date_parser.get_normalized_hour(date))\n",
    "        parsed_row.append(self.date_parser.get_awake(date))\n",
    "        parsed_row += self.date_parser.get_year_vector(date)\n",
    "        parsed_row += self.date_parser.get_month_vector(date)\n",
    "        parsed_row += self.date_parser.get_day_vector(date)\n",
    "        parsed_row += self.date_parser.get_seasons_vector(date)\n",
    "        parsed_row += self.day_of_week_parser.get_binary_week_vector(day_of_week)\n",
    "        parsed_row += self.pd_district_parser.get_binary_pd_districts_vector(pd_district)\n",
    "        #parsed_row += self.address_type_parser.get_binary_address_types_vector(address)\n",
    "        parsed_row += self.address_type_parser.get_distinct_binary_address_types_vector(address)\n",
    "        parsed_row.append(self.address_type_parser.get_intersection(address))\n",
    "        #parsed_row.append(self.location_parser.get_normalized_X(X))\n",
    "        #parsed_row.append(self.location_parser.get_normalized_Y(Y))\n",
    "        \n",
    "        return parsed_row\n",
    "    \n",
    "    "
   ]
  },
  {
   "cell_type": "code",
   "execution_count": 2,
   "metadata": {
    "collapsed": false
   },
   "outputs": [],
   "source": [
    "import csv\n",
    "import datetime\n",
    "import numpy"
   ]
  },
  {
   "cell_type": "code",
   "execution_count": 3,
   "metadata": {
    "collapsed": false
   },
   "outputs": [],
   "source": [
    "\"\"\"\n",
    "Class for handling the filenames of each of the files \n",
    "needed for the implementation of the neural network, \n",
    "and also for reading the input and parsed data files.\n",
    "\"\"\"\n",
    "\n",
    "class FileHandler(object):\n",
    "\n",
    "    def __init__(self, input_filename, parsed_data_filename, test_data_filename, parsed_test_data_filename):\n",
    "        self.input_filename = input_filename\n",
    "        self.parsed_data_filename = parsed_data_filename\n",
    "        self.test_data_filename = test_data_filename\n",
    "        self.parsed_test_data_filename = parsed_test_data_filename\n",
    "\n",
    "    def get_input_data(self):\n",
    "        \"\"\"A generator of the input data\"\"\"\n",
    "        with open(self.input_filename, \"rb\") as csvfile:\n",
    "            datareader = csv.reader(csvfile)\n",
    "            for row in datareader:\n",
    "                yield row\n",
    "    \n",
    "    def get_test_data(self):\n",
    "        \"\"\"A generator of the test data\"\"\"\n",
    "        with open(self.test_data_filename, \"rb\") as csvfile:\n",
    "            datareader = csv.reader(csvfile)\n",
    "            for row in datareader:\n",
    "                yield row\n",
    "    \n",
    "    def get_parsed_data(self):\n",
    "        \"\"\"A generator of the parsed data\"\"\"\n",
    "        with open(self.parsed_data_filename, \"rb\") as csvfile:\n",
    "            datareader = csv.reader(csvfile)\n",
    "            for row in datareader:\n",
    "                yield row\n",
    "    \n",
    "    def get_parsed_test_data(self):\n",
    "        \"\"\"A generator of the parsed test data\"\"\"\n",
    "        with open(self.parsed_test_data_filename, \"rb\") as csvfile:\n",
    "            datareader = csv.reader(csvfile)\n",
    "            for row in datareader:\n",
    "                yield row\n",
    "                \n",
    "    def get_parsed_data_filename(self):\n",
    "        return self.parsed_data_filename\n",
    "    \n",
    "    def get_parsed_test_data_filename(self):\n",
    "        return self.parsed_test_data_filename"
   ]
  },
  {
   "cell_type": "markdown",
   "metadata": {},
   "source": [
    "# Input Data Parser"
   ]
  },
  {
   "cell_type": "markdown",
   "metadata": {},
   "source": [
    "# Date Parser"
   ]
  },
  {
   "cell_type": "code",
   "execution_count": 4,
   "metadata": {
    "collapsed": false
   },
   "outputs": [],
   "source": [
    "\"\"\"\n",
    "A class for parsing the date from the\n",
    "input data into the normalized date and hour features.\n",
    "\"\"\"\n",
    "\n",
    "class DateParser(object):\n",
    "    \n",
    "    MIN_DAY = 1\n",
    "    MIN_MONTH = 1\n",
    "    MIN_YEAR = 2003\n",
    "    MAX_DAY = 13\n",
    "    MAX_MONTH = 5\n",
    "    MAX_YEAR = 2015\n",
    "    \n",
    "    MIN_HOUR = 0\n",
    "    MAX_HOUR = 23\n",
    "    \n",
    "    JANUARY = 1\n",
    "    FEBRUARY = 2\n",
    "    MARCH = 3\n",
    "    APRIL = 4\n",
    "    MAY = 5\n",
    "    JUNE = 6\n",
    "    JULY = 7\n",
    "    AUGUST = 8\n",
    "    SEPTEMBER = 9\n",
    "    OCTOBER = 10\n",
    "    NOVEMBER = 11\n",
    "    DECEMBER = 12\n",
    "    \n",
    "    SUMMER_MONTHS = [JUNE, JULY, AUGUST]\n",
    "    FALL_MONTHS = [SEPTEMBER, OCTOBER, NOVEMBER]\n",
    "    WINTER_MONTHS = [DECEMBER, JANUARY, FEBRUARY]\n",
    "    SPRING_MONTHS = [MARCH, APRIL, MAY]\n",
    "    \n",
    "    \n",
    "    def __init__(self):\n",
    "        self.min_date = datetime.date(self.MIN_YEAR, self.MIN_MONTH, self.MIN_DAY)\n",
    "        self.max_date = datetime.date(self.MAX_YEAR, self.MAX_MONTH, self.MAX_DAY)\n",
    "    \n",
    "    def get_normalized_date(self, input_date):\n",
    "        date = self.__extract_date(input_date)\n",
    "        return self.__normalize_date(date)\n",
    "    \n",
    "    def get_normalized_hour(self, input_date):\n",
    "        hour = self.__extract_hour(input_date)\n",
    "        return self.__normalize_hour(hour)\n",
    "    \n",
    "    def __normalize_date(self, date):\n",
    "        return float((self.elapsed_days(self.min_date, date))) / (self.elapsed_days(self.min_date, self.max_date))\n",
    "    \n",
    "    def __normalize_hour(self, hour):\n",
    "        return float(hour - self.MIN_HOUR) / (self.MAX_HOUR - self.MIN_HOUR)\n",
    "    \n",
    "    def elapsed_days(self, date1, date2):\n",
    "        return abs(date2-date1).days\n",
    "    \n",
    "    def __extract_date(self, input_date):\n",
    "        day = self.__extract_day(input_date)\n",
    "        month = self.__extract_month(input_date)\n",
    "        year = self.__extract_year(input_date)\n",
    "        return datetime.date(year, month, day)\n",
    "        \n",
    "    def __extract_year(self, input_date):\n",
    "        return int(input_date.split('-')[0])\n",
    "    \n",
    "    def __extract_month(self, input_date):\n",
    "        return int(input_date.split('-')[1])\n",
    "    \n",
    "    def __extract_day(self, input_date):\n",
    "        aux = input_date.split('-')[2]\n",
    "        return int(aux.split(' ')[0])\n",
    "    \n",
    "    def __extract_hour(self, input_date):\n",
    "        aux = input_date.split('-')[2]\n",
    "        time = aux.split(' ')[1]\n",
    "        return int(time.split(':')[0])\n",
    "    \n",
    "    def get_awake(self, input_date):\n",
    "        hour = self.__extract_hour(input_date)\n",
    "        if (hour == 0 or (hour >= 8 and hour <= 23)):\n",
    "            return 1\n",
    "        else:\n",
    "            return 0\n",
    "    \n",
    "    def get_seasons_vector(self, input_date):\n",
    "        month = self.__extract_month(input_date)\n",
    "        \n",
    "        seasons = {\n",
    "            'SUMMER' : 0,\n",
    "            'FALL' : 1,\n",
    "            'WINTER' : 2,\n",
    "            'SPRING' : 3\n",
    "        }\n",
    "        \n",
    "        seasons_vector = [0] * 4\n",
    "        if (month in self.SUMMER_MONTHS):\n",
    "            seasons_vector[seasons['SUMMER']] = 1\n",
    "            \n",
    "        elif (month in self.FALL_MONTHS):\n",
    "            seasons_vector[seasons['FALL']] = 1\n",
    "            \n",
    "        elif (month in self.WINTER_MONTHS):\n",
    "            seasons_vector[seasons['WINTER']] = 1\n",
    "        \n",
    "        elif (month in self.SPRING_MONTHS):\n",
    "            seasons_vector[seasons['SPRING']] = 1\n",
    "            \n",
    "        return seasons_vector\n",
    "    \n",
    "    def get_year_vector(self,input_date):\n",
    "        year = self.__extract_year(input_date)\n",
    "        year_vector = [0]*(self.MAX_YEAR-self.MIN_YEAR+1)\n",
    "        year_vector[year-self.MIN_YEAR] = 1\n",
    "        \n",
    "        return year_vector\n",
    "        \n",
    "    def get_day_vector(self,input_date):\n",
    "        day = self.__extract_day(input_date)\n",
    "        day_vector = [0]*31\n",
    "        day_vector[day-1] = 1\n",
    "    \n",
    "        return day_vector\n",
    "    \n",
    "    def get_month_vector(self,input_date):\n",
    "        month = self.__extract_month(input_date)\n",
    "        month_vector = [0] * 12\n",
    "        month_vector[month-1] = 1\n",
    "        \n",
    "        return month_vector "
   ]
  },
  {
   "cell_type": "markdown",
   "metadata": {},
   "source": [
    "# Test of the DateParser"
   ]
  },
  {
   "cell_type": "code",
   "execution_count": 5,
   "metadata": {
    "collapsed": false
   },
   "outputs": [
    {
     "name": "stdout",
     "output_type": "stream",
     "text": [
      "1.04916943522\n",
      "0.0434782608696\n",
      "0\n",
      "[0, 0, 1, 0]\n",
      "[0, 0, 0, 0, 0, 0, 0, 0, 0, 0, 0, 0, 1]\n",
      "[0, 0, 0, 0, 0, 0, 0, 0, 0, 0, 0, 1]\n",
      "[0, 0, 0, 0, 0, 0, 0, 0, 0, 0, 0, 0, 0, 0, 0, 0, 0, 0, 0, 0, 1, 0, 0, 0, 0, 0, 0, 0, 0, 0, 0]\n"
     ]
    }
   ],
   "source": [
    "date_parser = DateParser()\n",
    "input_date = '2015-12-21 01:53:00'\n",
    "print date_parser.get_normalized_date(input_date)\n",
    "print date_parser.get_normalized_hour(input_date)\n",
    "print date_parser.get_awake(input_date)\n",
    "print date_parser.get_seasons_vector(input_date)\n",
    "print date_parser.get_year_vector(input_date)\n",
    "print date_parser.get_month_vector(input_date)\n",
    "print date_parser.get_day_vector(input_date)\n"
   ]
  },
  {
   "cell_type": "markdown",
   "metadata": {},
   "source": [
    "# Day of Week Parser"
   ]
  },
  {
   "cell_type": "code",
   "execution_count": 6,
   "metadata": {
    "collapsed": true
   },
   "outputs": [],
   "source": [
    "class DayOfWeekParser(object):\n",
    "    \n",
    "    daysOfWeek = {\n",
    "        'Sunday' : 0,\n",
    "        'Monday' : 1,\n",
    "        'Tuesday' : 2,\n",
    "        'Wednesday' : 3,\n",
    "        'Thursday' : 4,\n",
    "        'Friday' : 5,\n",
    "        'Saturday' : 6\n",
    "    }\n",
    "    \n",
    "    def __init__(self):\n",
    "        pass\n",
    "    \n",
    "    def get_binary_week_vector(self, input_day):\n",
    "        week = [0] * 7\n",
    "        week[self.daysOfWeek[input_day]] = 1\n",
    "        return week\n",
    "        "
   ]
  },
  {
   "cell_type": "markdown",
   "metadata": {},
   "source": [
    "# Test of the DayOfWeekParser"
   ]
  },
  {
   "cell_type": "code",
   "execution_count": 7,
   "metadata": {
    "collapsed": false,
    "scrolled": true
   },
   "outputs": [
    {
     "name": "stdout",
     "output_type": "stream",
     "text": [
      "[0, 1, 0, 0, 0, 0, 0]\n"
     ]
    }
   ],
   "source": [
    "day_of_week_parser = DayOfWeekParser()\n",
    "input_day_of_week = 'Monday'\n",
    "print day_of_week_parser.get_binary_week_vector(input_day_of_week)"
   ]
  },
  {
   "cell_type": "markdown",
   "metadata": {},
   "source": [
    "# District Parser"
   ]
  },
  {
   "cell_type": "code",
   "execution_count": 8,
   "metadata": {
    "collapsed": true
   },
   "outputs": [],
   "source": [
    "class PdDistrictParser(object):\n",
    "    \n",
    "    pd_districts = {\n",
    "        'NORTHERN' : 0,\n",
    "        'PARK' : 1,\n",
    "        'RICHMOND' : 2,\n",
    "        'TARAVAL' : 3,\n",
    "        'CENTRAL' : 4,\n",
    "        'TENDERLOIN' : 5,\n",
    "        'MISSION' : 6,\n",
    "        'BAYVIEW' : 7,\n",
    "        'SOUTHERN' : 8,\n",
    "        'INGLESIDE' : 9\n",
    "    }\n",
    "    \n",
    "    def __init__(self):\n",
    "        pass\n",
    "    \n",
    "    def get_binary_pd_districts_vector(self, input_pd_district):\n",
    "        pd_districts_vector = [0] * 10\n",
    "        pd_districts_vector[self.pd_districts[input_pd_district]] = 1\n",
    "        return pd_districts_vector\n"
   ]
  },
  {
   "cell_type": "markdown",
   "metadata": {},
   "source": [
    "# Test of the PdDistrictParser"
   ]
  },
  {
   "cell_type": "code",
   "execution_count": 9,
   "metadata": {
    "collapsed": false
   },
   "outputs": [
    {
     "name": "stdout",
     "output_type": "stream",
     "text": [
      "[0, 0, 0, 0, 0, 0, 0, 0, 0, 1]\n"
     ]
    }
   ],
   "source": [
    "pd_district_parser = PdDistrictParser()\n",
    "input_pd_district = 'INGLESIDE'\n",
    "print pd_district_parser.get_binary_pd_districts_vector(input_pd_district)"
   ]
  },
  {
   "cell_type": "markdown",
   "metadata": {},
   "source": [
    "# Location Parser"
   ]
  },
  {
   "cell_type": "code",
   "execution_count": 10,
   "metadata": {
    "collapsed": true
   },
   "outputs": [],
   "source": [
    "class LocationParser(object):\n",
    "    \n",
    "    MIN_X = -122.3647507\n",
    "    MAX_X = -122.5136421\n",
    "    MIN_Y = 37.70787902\n",
    "    MAX_Y = 37.82062084\n",
    "    \n",
    "    INVALID_X = -120.5\n",
    "    INVALID_Y = 90\n",
    "    \n",
    "    DEFAULT_VALUE = 0.5\n",
    "    \n",
    "    def __init__(self):\n",
    "        pass\n",
    "    \n",
    "    def get_normalized_X(self, input_X):\n",
    "        X = float(input_X)\n",
    "        if (X == self.INVALID_X):\n",
    "            return self.DEFAULT_VALUE\n",
    "        else:\n",
    "            return abs(X - self.MIN_X) / abs(self.MAX_X - self.MIN_X)\n",
    "    \n",
    "    def get_normalized_Y(self, input_Y):\n",
    "        Y = float(input_Y)\n",
    "        if (Y == self.INVALID_Y):\n",
    "            return self.DEFAULT_VALUE\n",
    "        else:\n",
    "            return abs(Y - self.MIN_Y) / abs(self.MAX_Y - self.MIN_Y)\n",
    "        \n",
    "        "
   ]
  },
  {
   "cell_type": "markdown",
   "metadata": {},
   "source": [
    "# Test of the LocationParser"
   ]
  },
  {
   "cell_type": "code",
   "execution_count": 11,
   "metadata": {
    "collapsed": false
   },
   "outputs": [
    {
     "name": "stdout",
     "output_type": "stream",
     "text": [
      "0.505397222405\n",
      "0.817096796911\n"
     ]
    }
   ],
   "source": [
    "location_parser = LocationParser()\n",
    "input_X = '-122.43999999999999'\n",
    "input_Y = '37.7999999999999'\n",
    "print location_parser.get_normalized_X(input_X)\n",
    "print location_parser.get_normalized_Y(input_Y)\n"
   ]
  },
  {
   "cell_type": "markdown",
   "metadata": {},
   "source": [
    "# Category Parser"
   ]
  },
  {
   "cell_type": "code",
   "execution_count": 12,
   "metadata": {
    "collapsed": false
   },
   "outputs": [],
   "source": [
    "class CategoryParser(object):\n",
    "    \n",
    "\n",
    "    categories = {\n",
    "        'ARSON' : 0,\n",
    "        'ASSAULT': 1,\n",
    "        'BAD CHECKS':2,\n",
    "        'BRIBERY':3,\n",
    "        'BURGLARY':4,\n",
    "        'DISORDERLY CONDUCT':5,\n",
    "        'DRIVING UNDER THE INFLUENCE':6,\n",
    "        'DRUG/NARCOTIC':7,\n",
    "        'DRUNKENNESS':8,\n",
    "        'EMBEZZLEMENT':9,\n",
    "        'EXTORTION':10,\n",
    "        'FAMILY OFFENSES':11,\n",
    "        'FORGERY/COUNTERFEITING':12,\n",
    "        'FRAUD':13,\n",
    "        'GAMBLING':14,\n",
    "        'KIDNAPPING':15,\n",
    "        'LARCENY/THEFT':16,\n",
    "        'LIQUOR LAWS':17,\n",
    "        'LOITERING':18,\n",
    "        'MISSING PERSON':19,\n",
    "        'NON-CRIMINAL':20,\n",
    "        'OTHER OFFENSES':21,\n",
    "        'PORNOGRAPHY/OBSCENE MAT':22,\n",
    "        'PROSTITUTION':23,\n",
    "        'RECOVERED VEHICLE':24,\n",
    "        'ROBBERY':25,\n",
    "        'RUNAWAY':26,\n",
    "        'SECONDARY CODES':27,\n",
    "        'SEX OFFENSES FORCIBLE':28,\n",
    "        'SEX OFFENSES NON FORCIBLE':29,\n",
    "        'STOLEN PROPERTY':30,\n",
    "        'SUICIDE':31,\n",
    "        'SUSPICIOUS OCC':32,\n",
    "        'TREA':33,\n",
    "        'TRESPASS':34,\n",
    "        'VANDALISM':35,\n",
    "        'VEHICLE THEFT':36,\n",
    "        'WARRANTS':37,\n",
    "        'WEAPON LAWS':38\n",
    "    }\n",
    "\n",
    "    \n",
    "    def __init__(self):\n",
    "        pass\n",
    "    \n",
    "    def get_category_value(self, input_category):\n",
    "        return self.categories[input_category]\n",
    "        "
   ]
  },
  {
   "cell_type": "markdown",
   "metadata": {},
   "source": [
    "# Test of the CategoryParser"
   ]
  },
  {
   "cell_type": "code",
   "execution_count": 13,
   "metadata": {
    "collapsed": false
   },
   "outputs": [
    {
     "name": "stdout",
     "output_type": "stream",
     "text": [
      "26\n"
     ]
    }
   ],
   "source": [
    "category_parser = CategoryParser()\n",
    "input_category = 'RUNAWAY'\n",
    "print category_parser.get_category_value(input_category)"
   ]
  },
  {
   "cell_type": "markdown",
   "metadata": {},
   "source": [
    "# Address Type Parser"
   ]
  },
  {
   "cell_type": "code",
   "execution_count": 14,
   "metadata": {
    "collapsed": false
   },
   "outputs": [],
   "source": [
    "class AddressTypeParser(object):\n",
    "    \n",
    "    ALLEY = 0\n",
    "    AVENUE = 1\n",
    "    HIGHWAY = 2\n",
    "    LANE = 3\n",
    "    PLAZA = 4\n",
    "    STAIRWAY = 5\n",
    "    STREET = 6\n",
    "    WALK = 7\n",
    "     \n",
    "    address_types_prefixes = {\n",
    "        'I-'   : HIGHWAY,\n",
    "    }\n",
    "    \n",
    "    address_types_suffixes = {\n",
    "        'AL'   : ALLEY,\n",
    "        'AV'   : AVENUE,\n",
    "        'BL'   : AVENUE,\n",
    "        'WAY'  : AVENUE,\n",
    "        'WY'   : AVENUE,\n",
    "        'EX'   : HIGHWAY,\n",
    "        'HWY'  : HIGHWAY,\n",
    "        'HY'   : HIGHWAY,\n",
    "        'LN'   : LANE,\n",
    "        'PZ'   : PLAZA,\n",
    "        'STWY' : STAIRWAY,\n",
    "        'CR'   : STREET,\n",
    "        'CT'   : STREET,\n",
    "        'DR'   : STREET,\n",
    "        'PARK' : STREET,\n",
    "        'PL'   : STREET,\n",
    "        'RD'   : STREET,\n",
    "        'RW'   : STREET,\n",
    "        'ST'   : STREET,\n",
    "        'TER'  : STREET,\n",
    "        'TR'   : STREET,\n",
    "        'WK'   : WALK\n",
    "    }\n",
    "    \n",
    "    def __init__(self):\n",
    "        pass\n",
    "    \n",
    "    def flag_address_types_vector_with_street_type(self, address_types_vector, street):\n",
    "        address_type_found = False\n",
    "        for address_type in self.address_types_suffixes:\n",
    "            address_type_found = (street.endswith(address_type))\n",
    "            if (address_type_found):\n",
    "                address_types_vector[self.address_types_suffixes[address_type]] = 1\n",
    "                break\n",
    "        if (not address_type_found):\n",
    "            for address_type in self.address_types_prefixes:\n",
    "                address_type_found = (street.startswith(address_type))\n",
    "                if (address_type_found):\n",
    "                    address_types_vector[self.address_types_prefixes[address_type]] = 1\n",
    "                    break\n",
    "        \n",
    "    \n",
    "    def get_distinct_binary_address_types_vector(self, input_address):\n",
    "        address_types_vector = [0] * 8\n",
    "        intersection_types_vector = [0] * 8\n",
    "        \n",
    "        if (' / ' in input_address):\n",
    "            intersections = input_address.split(' / ')\n",
    "            street_1 = intersections[0]\n",
    "            street_2 = intersections[1]\n",
    "            self.flag_address_types_vector_with_street_type(address_types_vector, street_1)\n",
    "            self.flag_address_types_vector_with_street_type(intersection_types_vector, street_2)\n",
    "        else:\n",
    "            self.flag_address_types_vector_with_street_type(address_types_vector, input_address)\n",
    "        \n",
    "        return address_types_vector + intersection_types_vector\n",
    "    \n",
    "    def get_binary_address_types_vector(self, input_address):\n",
    "        address_types_vector = [0] * 8\n",
    "        intersection_types_vector = [0] * 8\n",
    "        \n",
    "        if (' / ' in input_address):\n",
    "            intersections = input_address.split(' / ')\n",
    "            street_1 = intersections[0]\n",
    "            street_2 = intersections[1]\n",
    "            self.flag_address_types_vector_with_street_type(address_types_vector, street_1)\n",
    "            self.flag_address_types_vector_with_street_type(intersection_types_vector, street_2)\n",
    "        else:\n",
    "            self.flag_address_types_vector_with_street_type(address_types_vector, input_address)\n",
    "            self.flag_address_types_vector_with_street_type(intersection_types_vector, input_address)\n",
    "        \n",
    "        return address_types_vector + intersection_types_vector\n",
    "    \n",
    "    def get_intersection(self, input_address):\n",
    "        if ' / ' in input_address:\n",
    "            return 1\n",
    "        else:\n",
    "            return 0\n",
    "    "
   ]
  },
  {
   "cell_type": "markdown",
   "metadata": {},
   "source": [
    "# Test of the AddressTypeParser"
   ]
  },
  {
   "cell_type": "code",
   "execution_count": 15,
   "metadata": {
    "collapsed": false
   },
   "outputs": [
    {
     "name": "stdout",
     "output_type": "stream",
     "text": [
      "[0, 1, 0, 0, 0, 0, 0, 0, 0, 0, 0, 0, 0, 0, 1, 0]\n",
      "1\n"
     ]
    }
   ],
   "source": [
    "address_type_parser = AddressTypeParser()\n",
    "input_address = '19TH AV / WINSTON DR'\n",
    "print address_type_parser.get_binary_address_types_vector(input_address)\n",
    "print address_type_parser.get_intersection(input_address)"
   ]
  },
  {
   "cell_type": "markdown",
   "metadata": {},
   "source": [
    "# Sample data printer (for debbuging)\n",
    "A sample of the data is printed from the data generator"
   ]
  },
  {
   "cell_type": "code",
   "execution_count": 16,
   "metadata": {
    "collapsed": true
   },
   "outputs": [],
   "source": [
    "def print_sample(data):\n",
    "    count = 0\n",
    "    for row in data:\n",
    "        print row\n",
    "        count += 1\n",
    "        if (count > 100):\n",
    "            break"
   ]
  },
  {
   "cell_type": "markdown",
   "metadata": {},
   "source": [
    "# Creation of the file handler\n",
    "The file handler is created with all the necessary files for the algorithm"
   ]
  },
  {
   "cell_type": "code",
   "execution_count": 17,
   "metadata": {
    "collapsed": false
   },
   "outputs": [],
   "source": [
    "input_filename = '../data/train.csv'\n",
    "parsed_data_filename = '../data/parsed_train.csv'\n",
    "test_data_filename = '../data/test.csv'\n",
    "parsed_test_data_filename = '../data/parsed_test.csv'\n",
    "\n",
    "file_handler = FileHandler(input_filename, parsed_data_filename, test_data_filename, parsed_test_data_filename)"
   ]
  },
  {
   "cell_type": "markdown",
   "metadata": {},
   "source": [
    "# Data parsing\n",
    "The data from the input file is parsed to the parsed data file, with the necessary format for the neural network features."
   ]
  },
  {
   "cell_type": "code",
   "execution_count": 18,
   "metadata": {
    "collapsed": false
   },
   "outputs": [],
   "source": [
    "data_parser = InputDataParser(file_handler)"
   ]
  },
  {
   "cell_type": "code",
   "execution_count": 19,
   "metadata": {
    "collapsed": false
   },
   "outputs": [],
   "source": [
    "data_parser.parse_input_data()"
   ]
  },
  {
   "cell_type": "code",
   "execution_count": 20,
   "metadata": {
    "collapsed": false
   },
   "outputs": [],
   "source": [
    "data_parser.parse_test_data()"
   ]
  },
  {
   "cell_type": "markdown",
   "metadata": {},
   "source": [
    "# Parsed data sample (for debbuging)\n",
    "A sample of rows from the parsed data file is printed "
   ]
  },
  {
   "cell_type": "code",
   "execution_count": 55,
   "metadata": {
    "collapsed": false
   },
   "outputs": [
    {
     "name": "stdout",
     "output_type": "stream",
     "text": [
      "['1.0', '1.0', '0', '0', '0', '1', '0', '0', '0', '1', '0', '0', '0', '0', '0', '0', '0', '0', '0', '1', '0.4106414147224084', '0.5917908339133205', '37']\n",
      "['1.0', '1.0', '0', '0', '0', '1', '0', '0', '0', '1', '0', '0', '0', '0', '0', '0', '0', '0', '0', '1', '0.4106414147224084', '0.5917908339133205', '21']\n",
      "['1.0', '1.0', '0', '0', '0', '1', '0', '0', '0', '1', '0', '0', '0', '0', '0', '0', '0', '0', '0', '1', '0.4003745108851507', '0.8207717596327773', '21']\n",
      "['1.0', '1.0', '0', '0', '0', '1', '0', '0', '0', '1', '0', '0', '0', '0', '0', '0', '0', '0', '0', '0', '0.41805387528083976', '0.8248368952108088', '16']\n",
      "['1.0', '1.0', '0', '0', '0', '1', '0', '0', '0', '0', '1', '0', '0', '0', '0', '0', '0', '0', '0', '0', '0.49691871227621504', '0.5646720272725474', '16']\n",
      "['1.0', '1.0', '0', '0', '0', '1', '0', '0', '0', '0', '0', '0', '0', '0', '0', '0', '0', '0', '1', '0', '0.2585888856711039', '0.04924245604692298', '16']\n",
      "['1.0', '1.0', '0', '0', '0', '1', '0', '0', '0', '0', '0', '0', '0', '0', '0', '0', '0', '0', '1', '1', '0.39341611851318065', '0.15308445772651672', '36']\n",
      "['1.0', '1.0', '0', '0', '0', '1', '0', '0', '0', '0', '0', '0', '0', '0', '0', '0', '1', '0', '0', '1', '0.04381460205898228', '0.17460292863639418', '36']\n",
      "['1.0', '1.0', '0', '0', '0', '1', '0', '0', '0', '0', '0', '1', '0', '0', '0', '0', '0', '0', '0', '0', '0.9634091097068169', '0.6095541182606963', '16']\n",
      "['1.0', '1.0', '0', '0', '0', '1', '0', '0', '0', '0', '0', '0', '0', '1', '0', '0', '0', '0', '0', '1', '0.36494368880268907', '0.886295180009547', '16']\n",
      "['1.0', '0.9565217391304348', '0', '0', '0', '1', '0', '0', '0', '0', '0', '0', '0', '1', '0', '0', '0', '0', '0', '1', '0.36494368880268907', '0.886295180009547', '16']\n",
      "['1.0', '0.9565217391304348', '0', '0', '0', '1', '0', '0', '0', '0', '0', '0', '1', '0', '0', '0', '0', '0', '0', '0', '0.8276661565207893', '0.2642110472645116', '21']\n",
      "['1.0', '0.9565217391304348', '0', '0', '0', '1', '0', '0', '0', '0', '0', '0', '0', '0', '1', '0', '0', '0', '0', '1', '0.3201230130216541', '0.6663434779871594', '35']\n",
      "['1.0', '0.9565217391304348', '0', '0', '0', '1', '0', '0', '0', '1', '0', '0', '0', '0', '0', '0', '0', '0', '0', '1', '0.45780954100772664', '0.6783137140841121', '16']\n",
      "['1.0', '0.9565217391304348', '0', '0', '0', '1', '0', '0', '0', '0', '0', '0', '0', '0', '0', '0', '1', '0', '0', '0', '0.22159592228298952', '0.19562992334521065', '20']\n",
      "['1.0', '0.9565217391304348', '0', '0', '0', '1', '0', '0', '0', '0', '0', '0', '0', '0', '0', '0', '1', '0', '0', '0', '0.12721220942923786', '0.3131936489627588', '20']\n",
      "['1.0', '0.9565217391304348', '0', '0', '0', '1', '0', '0', '0', '0', '0', '0', '0', '0', '1', '0', '0', '0', '0', '1', '0.321352859782346', '0.6745767251876756', '25']\n",
      "['1.0', '0.9130434782608695', '0', '0', '0', '1', '0', '0', '0', '0', '0', '0', '0', '0', '0', '0', '0', '0', '1', '1', '0.3823648079876', '0.30993982964349803', '1']\n",
      "['1.0', '0.9130434782608695', '0', '0', '0', '1', '0', '0', '0', '0', '0', '0', '0', '0', '0', '0', '1', '0', '0', '1', '0.145409136813853', '0.27589115620094895', '21']\n",
      "['1.0', '0.9130434782608695', '0', '0', '0', '1', '0', '0', '0', '0', '0', '0', '0', '0', '1', '0', '0', '0', '0', '0', '0.31901820813018017', '0.6623745314915168', '20']\n",
      "['1.0', '0.9130434782608695', '0', '0', '0', '1', '0', '0', '0', '0', '0', '0', '0', '0', '0', '0', '0', '0', '1', '0', '0.568457354044667', '0.3085792173357114', '16']\n",
      "['1.0', '0.9130434782608695', '0', '0', '0', '1', '0', '0', '0', '0', '0', '0', '0', '0', '0', '0', '0', '0', '1', '0', '0.372898873158551', '0.3499376706753838', '25']\n",
      "['1.0', '0.9130434782608695', '0', '0', '0', '1', '0', '0', '0', '0', '0', '0', '0', '0', '1', '0', '0', '0', '0', '0', '0.31901820813018017', '0.6623745314915168', '37']\n",
      "['1.0', '0.9130434782608695', '0', '0', '0', '1', '0', '0', '0', '0', '0', '0', '0', '0', '1', '0', '0', '0', '0', '0', '0.31901820813018017', '0.6623745314915168', '20']\n",
      "['1.0', '0.9130434782608695', '0', '0', '0', '1', '0', '0', '0', '1', '0', '0', '0', '0', '0', '0', '0', '0', '0', '1', '0.47886247013601085', '0.8156884719644907', '16']\n",
      "['1.0', '0.9130434782608695', '0', '0', '0', '1', '0', '0', '0', '0', '0', '0', '0', '0', '1', '0', '0', '0', '0', '0', '0.307328420546704', '0.6933026475819563', '20']\n",
      "['1.0', '0.9130434782608695', '0', '0', '0', '1', '0', '0', '0', '1', '0', '0', '0', '0', '0', '0', '0', '0', '0', '0', '0.44506839902768175', '0.7052312196494857', '16']\n",
      "['1.0', '0.9130434782608695', '0', '0', '0', '1', '0', '0', '0', '0', '0', '0', '0', '0', '0', '0', '0', '0', '1', '0', '0.39562824276625874', '0.21888477768496936', '16']\n",
      "['1.0', '0.9130434782608695', '0', '0', '0', '1', '0', '0', '0', '0', '0', '0', '1', '0', '0', '0', '0', '0', '0', '1', '0.7456629318550574', '0.3285386876937074', '16']\n",
      "['1.0', '0.8695652173913043', '0', '0', '0', '1', '0', '0', '0', '0', '0', '0', '1', '0', '0', '0', '0', '0', '0', '0', '0.9069457382360753', '0.3604570466601313', '21']\n",
      "['1.0', '0.8695652173913043', '0', '0', '0', '1', '0', '0', '0', '1', '0', '0', '0', '0', '0', '0', '0', '0', '0', '0', '0.44526188946444284', '0.6665720990170665', '16']\n",
      "['1.0', '0.8695652173913043', '0', '0', '0', '1', '0', '0', '0', '0', '0', '0', '0', '0', '0', '1', '0', '0', '0', '0', '0.47282381529081907', '0.47791231647493415', '20']\n",
      "['1.0', '0.8695652173913043', '0', '0', '0', '1', '0', '0', '0', '1', '0', '0', '0', '0', '0', '0', '0', '0', '0', '0', '0.4566625246118885', '0.6737821917785471', '35']\n",
      "['1.0', '0.8695652173913043', '0', '0', '0', '1', '0', '0', '0', '1', '0', '0', '0', '0', '0', '0', '0', '0', '0', '0', '0.44702945050553256', '0.691771760049657', '16']\n",
      "['1.0', '0.8695652173913043', '0', '0', '0', '1', '0', '0', '0', '1', '0', '0', '0', '0', '0', '0', '0', '0', '0', '0', '0.44702945050553256', '0.691771760049657', '35']\n",
      "['1.0', '0.8695652173913043', '0', '0', '0', '1', '0', '0', '0', '0', '0', '0', '0', '0', '0', '0', '0', '1', '0', '1', '0.18197771793403061', '0.6230674502327935', '16']\n",
      "['1.0', '0.8695652173913043', '0', '0', '0', '1', '0', '0', '0', '1', '0', '0', '0', '0', '0', '0', '0', '0', '0', '1', '0.4505298747409421', '0.7784394757651062', '16']\n",
      "['1.0', '0.8695652173913043', '0', '0', '0', '1', '0', '0', '0', '1', '0', '0', '0', '0', '0', '0', '0', '0', '0', '1', '0.4419400972857188', '0.7223916699358094', '16']\n",
      "['1.0', '0.8695652173913043', '0', '0', '0', '1', '0', '0', '0', '0', '0', '0', '1', '0', '0', '0', '0', '0', '0', '0', '0.7282578413393253', '0.12138992097256625', '38']\n",
      "['1.0', '0.8695652173913043', '0', '0', '0', '1', '0', '0', '0', '0', '0', '0', '0', '0', '0', '0', '0', '0', '1', '0', '0.4546653658505025', '0.026198212052092162', '35']\n",
      "['1.0', '0.8695652173913043', '0', '0', '0', '1', '0', '0', '0', '0', '0', '0', '0', '0', '0', '0', '0', '1', '0', '0', '0.2723068304482013', '0.695644292743375', '20']\n",
      "['1.0', '0.8695652173913043', '0', '0', '0', '1', '0', '0', '0', '0', '0', '0', '0', '0', '0', '0', '0', '1', '0', '0', '0.3853606019488264', '0.5779044399983957', '16']\n",
      "['1.0', '0.8695652173913043', '0', '0', '0', '1', '0', '0', '0', '0', '0', '0', '0', '0', '1', '0', '0', '0', '0', '0', '0.2794058910991441', '0.6931956361552847', '16']\n",
      "['1.0', '0.8695652173913043', '0', '0', '0', '1', '0', '0', '0', '0', '0', '0', '0', '0', '0', '0', '1', '0', '0', '0', '0.23300848095987714', '0.19777041176657473', '21']\n",
      "['1.0', '0.8695652173913043', '0', '0', '0', '1', '0', '0', '0', '0', '0', '0', '0', '0', '0', '0', '1', '0', '0', '0', '0.23300848095987714', '0.19777041176657473', '21']\n",
      "['1.0', '0.8695652173913043', '0', '0', '0', '1', '0', '0', '0', '0', '0', '0', '0', '1', '0', '0', '0', '0', '0', '0', '0.33891367367086334', '0.7183885255977148', '21']\n",
      "['1.0', '0.8695652173913043', '0', '0', '0', '1', '0', '0', '0', '0', '0', '0', '0', '0', '0', '0', '0', '0', '1', '0', '0.39593707400833', '0.24262308179789788', '36']\n",
      "['1.0', '0.8695652173913043', '0', '0', '0', '1', '0', '0', '0', '0', '0', '0', '1', '0', '0', '0', '0', '0', '0', '1', '0.7189745507665402', '0.5127438853639057', '16']\n",
      "['1.0', '0.8260869565217391', '0', '0', '0', '1', '0', '0', '0', '0', '0', '0', '0', '1', '0', '0', '0', '0', '0', '1', '0.294487704978266', '0.721517409183213', '20']\n",
      "['1.0', '0.8260869565217391', '0', '0', '0', '1', '0', '0', '0', '0', '1', '0', '0', '0', '0', '0', '0', '0', '0', '0', '0.5575232842192559', '0.5496404753932634', '4']\n",
      "['1.0', '0.8260869565217391', '0', '0', '0', '1', '0', '0', '0', '0', '0', '0', '0', '0', '0', '0', '1', '0', '0', '1', '0.227984219968455', '0.4156982840874827', '25']\n",
      "['1.0', '0.8260869565217391', '0', '0', '0', '1', '0', '0', '0', '0', '0', '0', '0', '0', '0', '0', '1', '0', '0', '1', '0.227984219968455', '0.4156982840874827', '1']\n",
      "['1.0', '0.8260869565217391', '0', '0', '0', '1', '0', '0', '0', '0', '0', '0', '0', '0', '0', '0', '0', '1', '0', '0', '0.2588070439663167', '0.7045069524245942', '16']\n",
      "['1.0', '0.8260869565217391', '0', '0', '0', '1', '0', '0', '0', '0', '0', '0', '0', '0', '0', '0', '0', '1', '0', '0', '0.22073046484216616', '0.6165662775508014', '16']\n",
      "['1.0', '0.8260869565217391', '0', '0', '0', '1', '0', '0', '0', '0', '0', '0', '0', '0', '0', '0', '0', '1', '0', '1', '0.3734030899836915', '0.5666934614360166', '32']\n",
      "['1.0', '0.8260869565217391', '0', '0', '0', '1', '0', '0', '0', '0', '0', '0', '0', '0', '0', '0', '0', '1', '0', '1', '0.23541618789936544', '0.7107168612251822', '16']\n",
      "['1.0', '0.8260869565217391', '0', '0', '0', '1', '0', '0', '0', '1', '0', '0', '0', '0', '0', '0', '0', '0', '0', '1', '0.3804458760882429', '0.6901194157341205', '16']\n",
      "['1.0', '0.8260869565217391', '0', '0', '0', '1', '0', '0', '0', '0', '0', '0', '0', '0', '0', '0', '0', '1', '0', '1', '0.3124995128597571', '0.5650037980963811', '16']\n",
      "['1.0', '0.8260869565217391', '0', '0', '0', '1', '0', '0', '0', '1', '0', '0', '0', '0', '0', '0', '0', '0', '0', '1', '0.424742140318292', '0.6836336699302441', '16']\n",
      "['1.0', '0.8260869565217391', '0', '0', '0', '1', '0', '0', '0', '0', '0', '0', '0', '1', '0', '0', '0', '0', '0', '0', '0.24157933767166778', '0.7347180450564371', '36']\n",
      "['1.0', '0.8260869565217391', '0', '0', '0', '1', '0', '0', '0', '0', '0', '0', '0', '1', '0', '0', '0', '0', '0', '0', '0.24157933767166778', '0.7347180450564371', '36']\n",
      "['1.0', '0.8260869565217391', '0', '0', '0', '1', '0', '0', '0', '0', '0', '0', '0', '1', '0', '0', '0', '0', '0', '0', '0.3235798388623899', '0.7256207730050747', '8']\n",
      "['1.0', '0.8260869565217391', '0', '0', '0', '1', '0', '0', '0', '0', '0', '0', '0', '1', '0', '0', '0', '0', '0', '0', '0.3235798388623899', '0.7256207730050747', '32']\n",
      "['1.0', '0.8260869565217391', '0', '0', '0', '1', '0', '0', '0', '0', '0', '0', '0', '0', '0', '0', '0', '1', '0', '0', '0.20382019499453624', '0.7644016085265389', '20']\n",
      "['1.0', '0.8260869565217391', '0', '0', '0', '1', '0', '0', '0', '0', '0', '0', '0', '0', '0', '0', '0', '1', '0', '0', '0.31490013430593405', '0.566851901662537', '16']\n",
      "['1.0', '0.8260869565217391', '0', '0', '0', '1', '0', '0', '0', '0', '0', '0', '1', '0', '0', '0', '0', '0', '0', '1', '0.7397905566608108', '0.16951572172686927', '16']\n",
      "['1.0', '0.8260869565217391', '0', '0', '0', '1', '0', '0', '0', '0', '0', '0', '0', '0', '1', '0', '0', '0', '0', '0', '0.345789967580415', '0.683273995821679', '37']\n",
      "['1.0', '0.8260869565217391', '0', '0', '0', '1', '0', '0', '0', '0', '0', '0', '0', '0', '1', '0', '0', '0', '0', '0', '0.345789967580415', '0.683273995821679', '37']\n",
      "['1.0', '0.8260869565217391', '0', '0', '0', '1', '0', '0', '0', '0', '0', '0', '0', '0', '1', '0', '0', '0', '0', '0', '0.345789967580415', '0.683273995821679', '21']\n",
      "['1.0', '0.8260869565217391', '0', '0', '0', '1', '0', '0', '0', '0', '0', '0', '0', '0', '0', '0', '0', '1', '0', '0', '0.20978559451386197', '0.6293653993541093', '16']\n",
      "['1.0', '0.8260869565217391', '0', '0', '0', '1', '0', '0', '0', '0', '0', '0', '0', '0', '0', '0', '0', '1', '0', '0', '0.20978559451386197', '0.6293653993541093', '16']\n",
      "['1.0', '0.8260869565217391', '0', '0', '0', '1', '0', '0', '0', '1', '0', '0', '0', '0', '0', '0', '0', '0', '0', '0', '0.46591445846435836', '0.6932124187165298', '16']\n",
      "['1.0', '0.8260869565217391', '0', '0', '0', '1', '0', '0', '0', '0', '0', '0', '0', '0', '0', '0', '1', '0', '0', '0', '0.21751100041375634', '0.13239064723367996', '16']\n",
      "['1.0', '0.8260869565217391', '0', '0', '0', '1', '0', '0', '0', '0', '0', '0', '0', '0', '0', '1', '0', '0', '0', '1', '0.38834770989469286', '0.36273128329398074', '36']\n",
      "['1.0', '0.8260869565217391', '0', '0', '0', '1', '0', '0', '0', '0', '0', '0', '0', '1', '0', '0', '0', '0', '0', '1', '0.28348152144448996', '0.723385013688784', '16']\n",
      "['1.0', '0.782608695652174', '0', '0', '0', '1', '0', '0', '0', '0', '0', '0', '0', '0', '0', '1', '0', '0', '0', '0', '0.3688991852450766', '0.5142020746472051', '37']\n",
      "['1.0', '0.782608695652174', '0', '0', '0', '1', '0', '0', '0', '0', '0', '0', '0', '0', '0', '1', '0', '0', '0', '0', '0.3688991852450766', '0.5142020746472051', '37']\n",
      "['1.0', '0.782608695652174', '0', '0', '0', '1', '0', '0', '0', '0', '1', '0', '0', '0', '0', '0', '0', '0', '0', '0', '0.5221643935983162', '0.4666135486494849', '20']\n",
      "['1.0', '0.782608695652174', '0', '0', '0', '1', '0', '0', '0', '0', '0', '0', '0', '0', '0', '0', '0', '1', '0', '0', '0.21264327915518513', '0.6324946211352843', '16']\n",
      "['1.0', '0.782608695652174', '0', '0', '0', '1', '0', '0', '0', '0', '0', '0', '0', '0', '0', '1', '0', '0', '0', '1', '0.32803100488684506', '0.4962063406649068', '21']\n",
      "['1.0', '0.782608695652174', '0', '0', '0', '1', '0', '0', '0', '0', '0', '0', '0', '1', '0', '0', '0', '0', '0', '1', '0.2504636546704293', '0.7949656111095081', '20']\n",
      "['1.0', '0.782608695652174', '0', '0', '0', '1', '0', '0', '0', '1', '0', '0', '0', '0', '0', '0', '0', '0', '0', '0', '0.3806547738821576', '0.7692248292665897', '20']\n",
      "['1.0', '0.782608695652174', '0', '0', '0', '1', '0', '0', '0', '1', '0', '0', '0', '0', '0', '0', '0', '0', '0', '0', '0.3806547738821576', '0.7692248292665897', '38']\n",
      "['1.0', '0.782608695652174', '0', '0', '0', '1', '0', '0', '0', '0', '0', '0', '0', '0', '1', '0', '0', '0', '0', '0', '0.3325423118596047', '0.6552844791470934', '21']\n",
      "['1.0', '0.782608695652174', '0', '0', '0', '1', '0', '0', '0', '0', '0', '0', '0', '0', '0', '0', '0', '0', '1', '0', '0.3140104178548983', '0.3539670280247477', '21']\n",
      "['1.0', '0.782608695652174', '0', '0', '0', '1', '0', '0', '0', '0', '1', '0', '0', '0', '0', '0', '0', '0', '0', '0', '0.4852476849904588', '0.6322689098233651', '16']\n",
      "['1.0', '0.782608695652174', '0', '0', '0', '1', '0', '0', '0', '0', '0', '1', '0', '0', '0', '0', '0', '0', '0', '0', '0.9999997599928608', '0.6261225865141214', '16']\n",
      "['1.0', '0.782608695652174', '0', '0', '0', '1', '0', '0', '0', '0', '0', '0', '0', '0', '0', '0', '1', '0', '0', '0', '0.35722189695316797', '0.16609734494264003', '4']\n",
      "['1.0', '0.782608695652174', '0', '0', '0', '1', '0', '0', '0', '1', '0', '0', '0', '0', '0', '0', '0', '0', '0', '0', '0.4566625246118885', '0.6737821917785471', '16']\n",
      "['1.0', '0.782608695652174', '0', '0', '0', '1', '0', '0', '0', '0', '0', '0', '0', '1', '0', '0', '0', '0', '0', '1', '0.2753286086972934', '0.7416862956664793', '16']\n",
      "['1.0', '0.782608695652174', '0', '0', '0', '1', '0', '0', '0', '1', '0', '0', '0', '0', '0', '0', '0', '0', '0', '0', '0.3757146931522106', '0.6528565207986203', '16']\n",
      "['1.0', '0.782608695652174', '0', '0', '0', '1', '0', '0', '0', '0', '0', '0', '0', '0', '1', '0', '0', '0', '0', '0', '0.3380854840911122', '0.6722699388497144', '20']\n",
      "['1.0', '0.782608695652174', '0', '0', '0', '1', '0', '0', '0', '0', '0', '0', '1', '0', '0', '0', '0', '0', '0', '1', '0.6866777540139134', '0.28245188177910885', '16']\n",
      "['1.0', '0.782608695652174', '0', '0', '0', '1', '0', '0', '0', '0', '0', '0', '0', '1', '0', '0', '0', '0', '0', '1', '0.35629939167738145', '0.828347138124979', '16']\n",
      "['1.0', '0.782608695652174', '0', '0', '0', '1', '0', '0', '0', '0', '0', '0', '0', '1', '0', '0', '0', '0', '0', '1', '0.3722800733017029', '0.8595801512588633', '16']\n",
      "['1.0', '0.782608695652174', '0', '0', '0', '1', '0', '0', '0', '0', '0', '0', '0', '0', '0', '0', '1', '0', '0', '1', '0.2642814145209206', '0.18589658782076196', '16']\n",
      "['1.0', '0.782608695652174', '0', '0', '0', '1', '0', '0', '0', '0', '0', '0', '0', '0', '0', '1', '0', '0', '0', '1', '0.3375882357745731', '0.3810242884494535', '21']\n",
      "['1.0', '0.782608695652174', '0', '0', '0', '1', '0', '0', '0', '0', '0', '0', '0', '0', '0', '0', '0', '1', '0', '0', '0.30057887393091415', '0.6532380952072617', '4']\n",
      "['1.0', '0.782608695652174', '0', '0', '0', '1', '0', '0', '0', '0', '0', '0', '0', '0', '0', '0', '1', '0', '0', '1', '0.1532701435542809', '0.4671818896874063', '16']\n",
      "['1.0', '0.782608695652174', '0', '0', '0', '1', '0', '0', '0', '0', '1', '0', '0', '0', '0', '0', '0', '0', '0', '1', '0.47395432729495435', '0.49868814178982174', '16']\n",
      "['1.0', '0.782608695652174', '0', '0', '0', '1', '0', '0', '0', '0', '1', '0', '0', '0', '0', '0', '0', '0', '0', '1', '0.5816948539069545', '0.5968959474470104', '16']\n"
     ]
    }
   ],
   "source": [
    "parsed_data = file_handler.get_parsed_data()\n",
    "print_sample(parsed_data)"
   ]
  }
 ],
 "metadata": {
  "kernelspec": {
   "display_name": "Python 2",
   "language": "python",
   "name": "python2"
  },
  "language_info": {
   "codemirror_mode": {
    "name": "ipython",
    "version": 2
   },
   "file_extension": ".py",
   "mimetype": "text/x-python",
   "name": "python",
   "nbconvert_exporter": "python",
   "pygments_lexer": "ipython2",
   "version": "2.7.10"
  }
 },
 "nbformat": 4,
 "nbformat_minor": 0
}
